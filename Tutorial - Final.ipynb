{
 "cells": [
  {
   "cell_type": "markdown",
   "id": "7ebed91b",
   "metadata": {},
   "source": [
    "## Introduction\n",
    "\n",
    "This tutorial will introduce you to the basics of A/B testing, focussing on analyzing results of an actual A/B test. This is a very important concept in the data science world especially when companies want to implement product changes, UI changes and understand how end users are responding to it. Users are randomly split into two groups - Control and Experimental. The Control group is exposed to the existing design/framework and the Experiment group is exposed to the modified one. We then go on to analyze how the two groups react to these changes and whether the change was significant or not."
   ]
  },
  {
   "cell_type": "markdown",
   "id": "bcc8da6c",
   "metadata": {},
   "source": [
    "### Contents\n",
    "\n",
    "We will be working with a dataset containing the results of an A/B Test. Following are the indexable contents of the tutorial:\n",
    "\n",
    "- [Understanding the A/B Test that was Performed](#Understanding-the-A/B-Test-that-was-Performed)\n",
    "\n",
    "- [Exploring, Preprocessing and Visualizing the AB Test Results](#Exploring,-Preprocessing-and-Visualizing-the-AB-Test-Results)\n",
    "\n",
    "- [Hypothesis Testing](#Hypothesis-Testing)\n",
    "\n",
    "- [Performing a T Test for sum_gamerounds](#Performing-a-T-Test-for-sum_gamerounds)\n",
    "\n",
    "- [Performing a T Test for 1 Day Retention](#Performing-a-T-Test-for-1-Day-Retention)\n",
    "\n",
    "- [Performing a T Test for 7 Day Retention](#Performing-a-T-Test-for-7-Day-Retention)\n",
    "\n",
    "- [CHI SQUARE TEST](#CHI-SQUARE-TEST)\n",
    "\n",
    "- [Summary and References](#Summary-and-References)\n",
    "\n"
   ]
  },
  {
   "cell_type": "markdown",
   "id": "336beff5",
   "metadata": {},
   "source": [
    "## Understanding the A/B Test that was Performed\n",
    "\n",
    "The dataset we will be working with is sourced from\n",
    "\n",
    "https://www.kaggle.com/code/ekrembayar/a-b-testing-step-by-step-hypothesis-testing/data\n",
    "\n",
    "This dataset is derived from a mini-project on www.datacamp.com\n",
    "\n",
    "The data is from an AB test conducted in the \"Cookie Cats\" game a popular mobile game developed by Tactile Entertainment\n",
    "Here is a short description of the game (quoting directly from the kaggle link)\n",
    "\n",
    "_It's a classic \"connect three\"-style puzzle game where the player must connect tiles of the same color to clear the board and win the level. It also features singing cats.As players progress through the levels of the game, they will occasionally encounter gates that force them to wait a non-trivial amount of time or make an in-app purchase to progress. In addition to driving in-app purchases, these gates serve the important purpose of giving players an enforced break from playing the game, hopefully resulting in that the player's enjoyment of the game being increased and prolonged._\n"
   ]
  },
  {
   "cell_type": "markdown",
   "id": "791e704f",
   "metadata": {},
   "source": [
    "The objective of this AB test was to understand where the gates can be placed and how does that affect player activity (does it retain players or negatively effect)\n",
    "The gate was initially at level 30 and was shifted up to level 40. This formed the two distinct groups for the AB Test. There was one group that played the game with the gate at level 30 and another group og users that played the game at level 40\n",
    "Following is data collected regarding their activity and retention after this change was implemented"
   ]
  },
  {
   "cell_type": "code",
   "execution_count": 1,
   "id": "1e96425d",
   "metadata": {},
   "outputs": [],
   "source": [
    "#importing all the necessary packages\n",
    "import pandas as pd\n",
    "import numpy as np\n",
    "import math\n",
    "import scipy.stats\n",
    "from scipy.stats import t\n",
    "import matplotlib.pyplot as plt\n",
    "from scipy.stats import chi2_contingency\n",
    "from scipy.stats import chi2"
   ]
  },
  {
   "cell_type": "code",
   "execution_count": 2,
   "id": "d2af4e82",
   "metadata": {},
   "outputs": [
    {
     "data": {
      "text/html": [
       "<div>\n",
       "<style scoped>\n",
       "    .dataframe tbody tr th:only-of-type {\n",
       "        vertical-align: middle;\n",
       "    }\n",
       "\n",
       "    .dataframe tbody tr th {\n",
       "        vertical-align: top;\n",
       "    }\n",
       "\n",
       "    .dataframe thead th {\n",
       "        text-align: right;\n",
       "    }\n",
       "</style>\n",
       "<table border=\"1\" class=\"dataframe\">\n",
       "  <thead>\n",
       "    <tr style=\"text-align: right;\">\n",
       "      <th></th>\n",
       "      <th>userid</th>\n",
       "      <th>version</th>\n",
       "      <th>sum_gamerounds</th>\n",
       "      <th>retention_1</th>\n",
       "      <th>retention_7</th>\n",
       "    </tr>\n",
       "  </thead>\n",
       "  <tbody>\n",
       "    <tr>\n",
       "      <th>0</th>\n",
       "      <td>116</td>\n",
       "      <td>gate_30</td>\n",
       "      <td>3</td>\n",
       "      <td>False</td>\n",
       "      <td>False</td>\n",
       "    </tr>\n",
       "    <tr>\n",
       "      <th>1</th>\n",
       "      <td>337</td>\n",
       "      <td>gate_30</td>\n",
       "      <td>38</td>\n",
       "      <td>True</td>\n",
       "      <td>False</td>\n",
       "    </tr>\n",
       "    <tr>\n",
       "      <th>2</th>\n",
       "      <td>377</td>\n",
       "      <td>gate_40</td>\n",
       "      <td>165</td>\n",
       "      <td>True</td>\n",
       "      <td>False</td>\n",
       "    </tr>\n",
       "    <tr>\n",
       "      <th>3</th>\n",
       "      <td>483</td>\n",
       "      <td>gate_40</td>\n",
       "      <td>1</td>\n",
       "      <td>False</td>\n",
       "      <td>False</td>\n",
       "    </tr>\n",
       "    <tr>\n",
       "      <th>4</th>\n",
       "      <td>488</td>\n",
       "      <td>gate_40</td>\n",
       "      <td>179</td>\n",
       "      <td>True</td>\n",
       "      <td>True</td>\n",
       "    </tr>\n",
       "  </tbody>\n",
       "</table>\n",
       "</div>"
      ],
      "text/plain": [
       "   userid  version  sum_gamerounds  retention_1  retention_7\n",
       "0     116  gate_30               3        False        False\n",
       "1     337  gate_30              38         True        False\n",
       "2     377  gate_40             165         True        False\n",
       "3     483  gate_40               1        False        False\n",
       "4     488  gate_40             179         True         True"
      ]
     },
     "execution_count": 2,
     "metadata": {},
     "output_type": "execute_result"
    }
   ],
   "source": [
    "df=pd.read_csv(\"cookie_cats.csv\")\n",
    "df.head(5)"
   ]
  },
  {
   "cell_type": "markdown",
   "id": "6ba1c047",
   "metadata": {},
   "source": [
    "We have a total of 5 columns in our dataset namely:\n",
    "\n",
    "1) userid - the unique id given to the user\n",
    "\n",
    "2) version - this field tells us which group the user belongs to (gate_30 or gate_40)\n",
    "\n",
    "3) sum_gamerounds - this field describes the number of game rounds played by the user in the first 14 days after installation of \n",
    "                    the game\n",
    "                    \n",
    "4) retention_1 - Did the player return back and play 1 day after installation\n",
    "\n",
    "5) retention_7 - Did the player return back and play 7 days after installation"
   ]
  },
  {
   "cell_type": "code",
   "execution_count": 3,
   "id": "30c2992f",
   "metadata": {},
   "outputs": [
    {
     "name": "stdout",
     "output_type": "stream",
     "text": [
      "<class 'pandas.core.frame.DataFrame'>\n",
      "RangeIndex: 90189 entries, 0 to 90188\n",
      "Data columns (total 5 columns):\n",
      " #   Column          Non-Null Count  Dtype \n",
      "---  ------          --------------  ----- \n",
      " 0   userid          90189 non-null  int64 \n",
      " 1   version         90189 non-null  object\n",
      " 2   sum_gamerounds  90189 non-null  int64 \n",
      " 3   retention_1     90189 non-null  bool  \n",
      " 4   retention_7     90189 non-null  bool  \n",
      "dtypes: bool(2), int64(2), object(1)\n",
      "memory usage: 2.2+ MB\n"
     ]
    }
   ],
   "source": [
    "df.info()"
   ]
  },
  {
   "cell_type": "markdown",
   "id": "3fa01cc7",
   "metadata": {},
   "source": [
    "## Exploring, Preprocessing and Visualizing the AB Test Results\n",
    "\n",
    "Before we move into performing the actual Hypothesis Tests it is necessary to do some Exploratory Data Analysis to understand our data and the practical relevance of the each column. Exploring the data will point us in thr right direction and will help to draw better conclusions from the hypothesis tests that we perform later\n"
   ]
  },
  {
   "cell_type": "code",
   "execution_count": 4,
   "id": "17167fd0",
   "metadata": {},
   "outputs": [
    {
     "data": {
      "text/plain": [
       "userid            0\n",
       "version           0\n",
       "sum_gamerounds    0\n",
       "retention_1       0\n",
       "retention_7       0\n",
       "dtype: int64"
      ]
     },
     "execution_count": 4,
     "metadata": {},
     "output_type": "execute_result"
    }
   ],
   "source": [
    "#checking for missing values\n",
    "df.isnull().sum()"
   ]
  },
  {
   "cell_type": "code",
   "execution_count": 5,
   "id": "df29a2cf",
   "metadata": {},
   "outputs": [
    {
     "data": {
      "text/html": [
       "<div>\n",
       "<style scoped>\n",
       "    .dataframe tbody tr th:only-of-type {\n",
       "        vertical-align: middle;\n",
       "    }\n",
       "\n",
       "    .dataframe tbody tr th {\n",
       "        vertical-align: top;\n",
       "    }\n",
       "\n",
       "    .dataframe thead th {\n",
       "        text-align: right;\n",
       "    }\n",
       "</style>\n",
       "<table border=\"1\" class=\"dataframe\">\n",
       "  <thead>\n",
       "    <tr style=\"text-align: right;\">\n",
       "      <th></th>\n",
       "      <th>userid</th>\n",
       "      <th>version</th>\n",
       "      <th>sum_gamerounds</th>\n",
       "      <th>retention_1</th>\n",
       "      <th>retention_7</th>\n",
       "    </tr>\n",
       "  </thead>\n",
       "  <tbody>\n",
       "  </tbody>\n",
       "</table>\n",
       "</div>"
      ],
      "text/plain": [
       "Empty DataFrame\n",
       "Columns: [userid, version, sum_gamerounds, retention_1, retention_7]\n",
       "Index: []"
      ]
     },
     "execution_count": 5,
     "metadata": {},
     "output_type": "execute_result"
    }
   ],
   "source": [
    "#checking for duplicate rows\n",
    "df[df.duplicated()]"
   ]
  },
  {
   "cell_type": "code",
   "execution_count": 6,
   "id": "f6aa4990",
   "metadata": {},
   "outputs": [
    {
     "data": {
      "text/html": [
       "<div>\n",
       "<style scoped>\n",
       "    .dataframe tbody tr th:only-of-type {\n",
       "        vertical-align: middle;\n",
       "    }\n",
       "\n",
       "    .dataframe tbody tr th {\n",
       "        vertical-align: top;\n",
       "    }\n",
       "\n",
       "    .dataframe thead th {\n",
       "        text-align: right;\n",
       "    }\n",
       "</style>\n",
       "<table border=\"1\" class=\"dataframe\">\n",
       "  <thead>\n",
       "    <tr style=\"text-align: right;\">\n",
       "      <th></th>\n",
       "      <th>userid</th>\n",
       "      <th>sum_gamerounds</th>\n",
       "    </tr>\n",
       "  </thead>\n",
       "  <tbody>\n",
       "    <tr>\n",
       "      <th>count</th>\n",
       "      <td>9.018900e+04</td>\n",
       "      <td>90189.000000</td>\n",
       "    </tr>\n",
       "    <tr>\n",
       "      <th>mean</th>\n",
       "      <td>4.998412e+06</td>\n",
       "      <td>51.872457</td>\n",
       "    </tr>\n",
       "    <tr>\n",
       "      <th>std</th>\n",
       "      <td>2.883286e+06</td>\n",
       "      <td>195.050858</td>\n",
       "    </tr>\n",
       "    <tr>\n",
       "      <th>min</th>\n",
       "      <td>1.160000e+02</td>\n",
       "      <td>0.000000</td>\n",
       "    </tr>\n",
       "    <tr>\n",
       "      <th>25%</th>\n",
       "      <td>2.512230e+06</td>\n",
       "      <td>5.000000</td>\n",
       "    </tr>\n",
       "    <tr>\n",
       "      <th>50%</th>\n",
       "      <td>4.995815e+06</td>\n",
       "      <td>16.000000</td>\n",
       "    </tr>\n",
       "    <tr>\n",
       "      <th>75%</th>\n",
       "      <td>7.496452e+06</td>\n",
       "      <td>51.000000</td>\n",
       "    </tr>\n",
       "    <tr>\n",
       "      <th>max</th>\n",
       "      <td>9.999861e+06</td>\n",
       "      <td>49854.000000</td>\n",
       "    </tr>\n",
       "  </tbody>\n",
       "</table>\n",
       "</div>"
      ],
      "text/plain": [
       "             userid  sum_gamerounds\n",
       "count  9.018900e+04    90189.000000\n",
       "mean   4.998412e+06       51.872457\n",
       "std    2.883286e+06      195.050858\n",
       "min    1.160000e+02        0.000000\n",
       "25%    2.512230e+06        5.000000\n",
       "50%    4.995815e+06       16.000000\n",
       "75%    7.496452e+06       51.000000\n",
       "max    9.999861e+06    49854.000000"
      ]
     },
     "execution_count": 6,
     "metadata": {},
     "output_type": "execute_result"
    }
   ],
   "source": [
    "#checking the statistical spread of the data\n",
    "df.describe()"
   ]
  },
  {
   "cell_type": "code",
   "execution_count": 7,
   "id": "030c474f",
   "metadata": {},
   "outputs": [
    {
     "data": {
      "text/plain": [
       "gate_30         AxesSubplot(0.1,0.15;0.363636x0.75)\n",
       "gate_40    AxesSubplot(0.536364,0.15;0.363636x0.75)\n",
       "dtype: object"
      ]
     },
     "execution_count": 7,
     "metadata": {},
     "output_type": "execute_result"
    },
    {
     "data": {
      "image/png": "[encoded data removed]",
      "text/plain": [
       "<Figure size 432x288 with 2 Axes>"
      ]
     },
     "metadata": {
      "needs_background": "light"
     },
     "output_type": "display_data"
    }
   ],
   "source": [
    "df.groupby('version').boxplot(column=\"sum_gamerounds\")"
   ]
  },
  {
   "cell_type": "code",
   "execution_count": 8,
   "id": "5d9d25f4",
   "metadata": {},
   "outputs": [
    {
     "data": {
      "text/plain": [
       "gate_30         AxesSubplot(0.1,0.15;0.363636x0.75)\n",
       "gate_40    AxesSubplot(0.536364,0.15;0.363636x0.75)\n",
       "dtype: object"
      ]
     },
     "execution_count": 8,
     "metadata": {},
     "output_type": "execute_result"
    },
    {
     "data": {
      "image/png": "[encoded data removed]",
      "text/plain": [
       "<Figure size 432x288 with 2 Axes>"
      ]
     },
     "metadata": {
      "needs_background": "light"
     },
     "output_type": "display_data"
    }
   ],
   "source": [
    "df = df[df['sum_gamerounds'] < 10000]\n",
    "df.groupby('version').boxplot(column=\"sum_gamerounds\")"
   ]
  },
  {
   "cell_type": "code",
   "execution_count": 9,
   "id": "6a475a37",
   "metadata": {},
   "outputs": [
    {
     "data": {
      "text/plain": [
       "version\n",
       "gate_30    AxesSubplot(0.125,0.125;0.775x0.755)\n",
       "gate_40    AxesSubplot(0.125,0.125;0.775x0.755)\n",
       "Name: sum_gamerounds, dtype: object"
      ]
     },
     "execution_count": 9,
     "metadata": {},
     "output_type": "execute_result"
    },
    {
     "data": {
      "image/png": "[encoded data removed]",
      "text/plain": [
       "<Figure size 432x288 with 1 Axes>"
      ]
     },
     "metadata": {
      "needs_background": "light"
     },
     "output_type": "display_data"
    }
   ],
   "source": [
    "df.groupby('version').sum_gamerounds.plot(kind='hist')"
   ]
  },
  {
   "cell_type": "markdown",
   "id": "90de2495",
   "metadata": {},
   "source": [
    "When we can infer from the summary statistics, distribution and boxplot of sum_gamerounds that most users played very few rounds after installation as the 75th percentile itself is at 51 max value is at 2961. 50% of users just played 16 rounds. The data for this metric is highly skewed and would not be a great field to be used in AB Testing analysis"
   ]
  },
  {
   "cell_type": "code",
   "execution_count": 10,
   "id": "059d6fc5",
   "metadata": {},
   "outputs": [
    {
     "data": {
      "text/plain": [
       "version\n",
       "gate_30    44699\n",
       "gate_40    45489\n",
       "Name: sum_gamerounds, dtype: int64"
      ]
     },
     "execution_count": 10,
     "metadata": {},
     "output_type": "execute_result"
    }
   ],
   "source": [
    "df.groupby('version')['sum_gamerounds'].count()"
   ]
  },
  {
   "cell_type": "code",
   "execution_count": 11,
   "id": "0675f66a",
   "metadata": {},
   "outputs": [
    {
     "data": {
      "text/plain": [
       "Index(['userid', 'version', 'sum_gamerounds', 'retention_1', 'retention_7'], dtype='object')"
      ]
     },
     "execution_count": 11,
     "metadata": {},
     "output_type": "execute_result"
    }
   ],
   "source": [
    "df.columns"
   ]
  },
  {
   "cell_type": "code",
   "execution_count": 12,
   "id": "b48aa0d9",
   "metadata": {},
   "outputs": [
    {
     "data": {
      "text/plain": [
       "version  retention_1\n",
       "gate_30  False          24665\n",
       "         True           20034\n",
       "gate_40  False          25370\n",
       "         True           20119\n",
       "Name: retention_1, dtype: int64"
      ]
     },
     "execution_count": 12,
     "metadata": {},
     "output_type": "execute_result"
    }
   ],
   "source": [
    "t1=df.groupby('version').retention_1.value_counts()\n",
    "t1"
   ]
  },
  {
   "cell_type": "code",
   "execution_count": 13,
   "id": "2b9d0c4d",
   "metadata": {},
   "outputs": [
    {
     "data": {
      "text/plain": [
       "version\n",
       "gate_30    44699\n",
       "gate_40    45489\n",
       "Name: userid, dtype: int64"
      ]
     },
     "execution_count": 13,
     "metadata": {},
     "output_type": "execute_result"
    }
   ],
   "source": [
    "t2=df.groupby('version').userid.count()\n",
    "t2"
   ]
  },
  {
   "cell_type": "code",
   "execution_count": 14,
   "id": "4c5e9042",
   "metadata": {},
   "outputs": [
    {
     "data": {
      "text/plain": [
       "version  retention_7\n",
       "gate_30  False          36198\n",
       "         True            8501\n",
       "gate_40  False          37210\n",
       "         True            8279\n",
       "Name: retention_7, dtype: int64"
      ]
     },
     "execution_count": 14,
     "metadata": {},
     "output_type": "execute_result"
    }
   ],
   "source": [
    "t3=df.groupby('version').retention_7.value_counts()\n",
    "t3"
   ]
  },
  {
   "cell_type": "code",
   "execution_count": 15,
   "id": "441422c2",
   "metadata": {},
   "outputs": [
    {
     "name": "stdout",
     "output_type": "stream",
     "text": [
      "Percent of users who played the game 1 day after installation - Gate 30 : 44.81979462627799\n",
      "Percent of users who played the game 1 day after installation - Gate 40 : 44.22827496757458\n"
     ]
    }
   ],
   "source": [
    "print(\"Percent of users who played the game 1 day after installation - Gate 30 : \"+str(t1[1]/t2[0]*100))\n",
    "print(\"Percent of users who played the game 1 day after installation - Gate 40 : \"+str(t1[3]/t2[1]*100))"
   ]
  },
  {
   "cell_type": "code",
   "execution_count": 16,
   "id": "4daedfc9",
   "metadata": {},
   "outputs": [
    {
     "name": "stdout",
     "output_type": "stream",
     "text": [
      "Percent of users who played the game 7 days after installation - Gate 30 :19.018322557551624\n",
      "Percent of users who played the game 7 days after installation - Gate 40 :18.200004396667328\n"
     ]
    }
   ],
   "source": [
    "print(\"Percent of users who played the game 7 days after installation - Gate 30 :\"+str(t3[1]/t2[0]*100))\n",
    "print(\"Percent of users who played the game 7 days after installation - Gate 40 :\"+str(t3[3]/t2[1]*100))"
   ]
  },
  {
   "cell_type": "markdown",
   "id": "c7fc5169",
   "metadata": {},
   "source": [
    "From our EDA we observe that gate 30 (the existing gate) seems to be performing better than gate 40 on all the 3 metrics and it might not make sense to move up the gate to level 40 after all. We will perform statistical tests to confirm this conclusion"
   ]
  },
  {
   "cell_type": "markdown",
   "id": "3429b873",
   "metadata": {},
   "source": [
    "## Hypothesis Testing\n",
    "\n",
    "Hypothesis Testing is a statistical test in which you evaluate data to try to come to a conclusion about an alternate hypothesis that you have proposed. First we need to define what Null and Alternate hypothesis are.\n",
    "Null Hypothesis is basically the ground truth that we know and exists with proof, while an Alternate hypothesis is a new truth that we are trying to prove by rejecting the Null Hypothesis. Null Hypotheis is represented by $H_{0}$ and Alternate Hypothesis is represented by $H_{1}$\n",
    "\n",
    "We have two groups - Control (Null Hypothesis) and Experiment (Alternate Hypothesis). We have two data on how users have behaved, how often have they come back to play the game for both these hypotheses. We will check whether moving the gate upto level 40 made any difference at all, for the different metrics that we have. In this tutorial we will learn how to perform a T-test/Z-Test and Chi-Sqaure test from scratch"
   ]
  },
  {
   "cell_type": "markdown",
   "id": "f1a0bffd",
   "metadata": {},
   "source": [
    "### 2 Sample T/Z-Test \n",
    "\n",
    "If you want to check whether there is any statistical difference between 2 samples of data we perform a T/Z test. When the sample size is less than 30 it is typically called a T-test and a Z-test when the sample size is greater than 30\n",
    "Depending on whether the data is numerical or proportional we compute the t-statistic and compare that to the critical value (will deep dive into this while performing the actual test). From the t-statistic we compute the pvalue to check whether our result is enough statistically significant so as to reject the Null hypothesis and accept the alternate one\n",
    "\n",
    "Some assumptions:\n",
    "- We are performing a one tailed test as we already have an idea of the direction in which our ab test results are\n",
    "- For a sample size greater than 30 we use a z score. Typically a zscore and tscore is the same for a sample size greater than 30. The reason t-score is specficially used for a sample size<30 is because under such a condition the Central Limit Theorem might not hold true and the t-score corrects the z-score to give a better picture. For this tutoiral's purpose we will stick to the terminology of a t-score for simplicity of understanding\n"
   ]
  },
  {
   "cell_type": "markdown",
   "id": "af9fb740",
   "metadata": {},
   "source": [
    "## Performing a T Test for sum_gamerounds\n",
    "\n",
    "From our EDA we realized that sum_gamerounds might not be the best field to check the effectiveness of our AB Test as most users end up not playing the game after installation. However I have included this in the tutorial as it is the only numerical field and it is important to understand how to carry out a hypothesis test for a numerical field.\n",
    "\n",
    "The first step is to define the Null and Alternate Hypothesis represented by $ H_{0} $ and $ H_{1} $ respectively\n",
    "\n",
    "$ H_{0} $ : There is no difference between avg number of rounds between the two groups\n",
    "\n",
    "$ H_{1} $ : Avg number of rounds are lower when the gate is placed at level 40\n",
    "\n",
    "We then go on to compute the mean $\\mu_{0}$ of the control data and the mean $\\mu_{1}$ of the experiment data. The t-statistic measures how far the estimated mean is from the existing mean, in effect informing us whether our experiment was successful. SE is the standard error of the difference of the two populations. \n",
    "\n",
    "It is given by t-stat = $\\frac{\\mu_{1}-\\mu_{0}}{SE}$\n",
    "\n",
    "Some other defintions of terms used in the subsequent test:\n",
    "\n",
    "- Critical Value: It is point on the t distribution which serves as a benchmark to understand whether we have enough significance to reject the null hypothesis. We can safely reject a null hypothesis if the t-statistic is greater than the critical value\n",
    "\n",
    "\n",
    "- Confidence Level: It is the portion of the t-distribution where any point that lies, fails to reject the null hypothesis. For a confidence level of 95%, the significance level is 5% which means that a point lying in the significant region can reject the null hypothesis \n",
    "\n",
    "\n",
    "- P Value: It is the probability of a point lying in the tails of a t-distribution (in the significant area). Typically a p-value less than equal to 0.05 means our result is significant.\n",
    "\n",
    "\n",
    "- Degrees of Freedom: The number of pieces of information that are free/independent and contribute into estimate calculation. In our case it is N1 + N2 - 2\n",
    "\n",
    "When we perform the t-tests for the retention variables we will try to visualize a t-distribution to gain further understanding of all these parameters"
   ]
  },
  {
   "cell_type": "code",
   "execution_count": 17,
   "id": "ceed85ff",
   "metadata": {},
   "outputs": [],
   "source": [
    "X=df[df['version']==\"gate_30\"]['sum_gamerounds']\n",
    "Y=df[df['version']==\"gate_40\"]['sum_gamerounds']"
   ]
  },
  {
   "cell_type": "code",
   "execution_count": 18,
   "id": "d4431db8",
   "metadata": {},
   "outputs": [],
   "source": [
    "#u1 and u2 are the mean values of the null and alt. hypothesis\n",
    "u1=X.mean()\n",
    "u2=Y.mean()\n",
    "\n",
    "#sd1 and sd2 are the standard deviation values that we will use to compute SD of difference\n",
    "sd1=X.std()\n",
    "sd2=Y.std()"
   ]
  },
  {
   "cell_type": "code",
   "execution_count": 19,
   "id": "7ec8cef6",
   "metadata": {},
   "outputs": [],
   "source": [
    "#Calculating individual standard errors and standard error of the difference\n",
    "XSE,YSE = sd1/math.sqrt(len(X)),sd2/math.sqrt(len(Y))\n",
    "DSE = math.sqrt(XSE**2+YSE**2)"
   ]
  },
  {
   "cell_type": "code",
   "execution_count": 20,
   "id": "f058f16a",
   "metadata": {},
   "outputs": [],
   "source": [
    "t_score=(u1-u2)/DSE"
   ]
  },
  {
   "cell_type": "code",
   "execution_count": 21,
   "id": "5ec66bb6",
   "metadata": {},
   "outputs": [],
   "source": [
    "degrees_of_freedom=len(X)+len(Y)-2"
   ]
  },
  {
   "cell_type": "code",
   "execution_count": 22,
   "id": "420d6850",
   "metadata": {},
   "outputs": [],
   "source": [
    "pvalue=1-scipy.stats.t.cdf(abs(t_score), degrees_of_freedom)\n",
    "pvalue2=scipy.stats.t.sf(abs(t_score), degrees_of_freedom)"
   ]
  },
  {
   "cell_type": "markdown",
   "id": "36a7d29c",
   "metadata": {},
   "source": [
    "Performing a hypothesis test for Retention1"
   ]
  },
  {
   "cell_type": "code",
   "execution_count": 23,
   "id": "eec4b151",
   "metadata": {},
   "outputs": [
    {
     "data": {
      "text/plain": [
       "(0.47473431077112027, 0.06337426312891958)"
      ]
     },
     "execution_count": 23,
     "metadata": {},
     "output_type": "execute_result"
    }
   ],
   "source": [
    "pvalue,t_score"
   ]
  },
  {
   "cell_type": "markdown",
   "id": "f566e32a",
   "metadata": {},
   "source": [
    "Here we get a pvalue greater than 0.05, while that means we fail to reject the null hypothesis, in this particular metric we must take it with a grain of salt as from our EDA we realized that the metric itself is not very significant given how skewed the data is. "
   ]
  },
  {
   "cell_type": "markdown",
   "id": "2fb6277a",
   "metadata": {},
   "source": [
    "## Performing a T Test for 1 Day Retention\n",
    "\n",
    "The first step is to define the Null and Alternate Hypothesis represented by $ H_{0} $ and $ H_{1} $ respectively\n",
    "\n",
    "$ H_{0} $ : There is no difference in the proportion of users coming back to play the game after 1 day, when we change the gates\n",
    "\n",
    "$ H_{1} $ : The number of users coming back to play the game after 1 day is lesser when the gate is at level 40\n",
    "\n",
    "This is different from the previous test as we are now comparing two categorical populations rather than numerical populations. While comparing two proportions the standard error is computed by square-rooting the pooled variance of the two samples.\n",
    "\n",
    "SE = $\\sqrt{\\hat{p}*(1-\\hat{p})*(\\frac{1}{N1}+\\frac{1}{N2})}$\n",
    "\n",
    "$p{1}$ is the proportion from our Experiment group and $p{0}$ is out proportion from the Control Group\n",
    " \n",
    "t-stat = $\\frac{p_{1}-p_{0}}{SE}$\n",
    "\n"
   ]
  },
  {
   "cell_type": "code",
   "execution_count": 24,
   "id": "e6419957",
   "metadata": {},
   "outputs": [],
   "source": [
    "n1=len(df[df['version']==\"gate_30\"])\n",
    "n2=len(df[df['version']==\"gate_40\"])"
   ]
  },
  {
   "cell_type": "code",
   "execution_count": 25,
   "id": "9c6c2e5b",
   "metadata": {},
   "outputs": [],
   "source": [
    "#computing the value counts \n",
    "t1=df.groupby('version').retention_1.value_counts()\n",
    "t2=df.groupby('version').userid.count()"
   ]
  },
  {
   "cell_type": "code",
   "execution_count": 26,
   "id": "0f35122a",
   "metadata": {},
   "outputs": [
    {
     "data": {
      "text/plain": [
       "version  retention_1\n",
       "gate_30  False          24665\n",
       "         True           20034\n",
       "gate_40  False          25370\n",
       "         True           20119\n",
       "Name: retention_1, dtype: int64"
      ]
     },
     "execution_count": 26,
     "metadata": {},
     "output_type": "execute_result"
    }
   ],
   "source": [
    "t1"
   ]
  },
  {
   "cell_type": "code",
   "execution_count": 27,
   "id": "18bdb31a",
   "metadata": {},
   "outputs": [],
   "source": [
    "#p1 and p2 are the proportions from our two samples\n",
    "p1=t1[1]/n1\n",
    "p2=t1[3]/n2"
   ]
  },
  {
   "cell_type": "code",
   "execution_count": 28,
   "id": "94b831bf",
   "metadata": {},
   "outputs": [
    {
     "data": {
      "text/plain": [
       "(0.4481979462627799, 0.44228274967574577)"
      ]
     },
     "execution_count": 28,
     "metadata": {},
     "output_type": "execute_result"
    }
   ],
   "source": [
    "p1,p2"
   ]
  },
  {
   "cell_type": "code",
   "execution_count": 29,
   "id": "d91774a6",
   "metadata": {},
   "outputs": [],
   "source": [
    "#computing the pooled variance of the two samples\n",
    "pcap=(t1[1]+t1[3])/(n1+n2)"
   ]
  },
  {
   "cell_type": "code",
   "execution_count": 30,
   "id": "2858785b",
   "metadata": {},
   "outputs": [
    {
     "data": {
      "text/plain": [
       "0.0033099350735518005"
      ]
     },
     "execution_count": 30,
     "metadata": {},
     "output_type": "execute_result"
    }
   ],
   "source": [
    "#getting the standard error from the pooled variance\n",
    "se=math.sqrt(pcap*(1-pcap)*((1/n1)+(1/n2)))\n",
    "se"
   ]
  },
  {
   "cell_type": "code",
   "execution_count": 31,
   "id": "42b54776",
   "metadata": {},
   "outputs": [],
   "source": [
    "#finding the t score from the formula\n",
    "t_score=(p2-p1)/se"
   ]
  },
  {
   "cell_type": "code",
   "execution_count": 32,
   "id": "5fd81c05",
   "metadata": {},
   "outputs": [
    {
     "data": {
      "text/plain": [
       "-1.787103509763628"
      ]
     },
     "execution_count": 32,
     "metadata": {},
     "output_type": "execute_result"
    }
   ],
   "source": [
    "t_score"
   ]
  },
  {
   "cell_type": "code",
   "execution_count": 33,
   "id": "a123e9e0",
   "metadata": {},
   "outputs": [],
   "source": [
    "degrees_of_freedom=n1+n2-2"
   ]
  },
  {
   "cell_type": "code",
   "execution_count": 34,
   "id": "1a8bbe50",
   "metadata": {},
   "outputs": [],
   "source": [
    "#computing pvalues using two different methods - using cdf and sf (survival function)\n",
    "pvalue=1-scipy.stats.t.cdf(abs(t_score), degrees_of_freedom)\n",
    "pvalue2=scipy.stats.t.sf(abs(t_score), degrees_of_freedom)"
   ]
  },
  {
   "cell_type": "code",
   "execution_count": 35,
   "id": "af2b409c",
   "metadata": {},
   "outputs": [
    {
     "data": {
      "text/plain": [
       "1.6448705229763008"
      ]
     },
     "execution_count": 35,
     "metadata": {},
     "output_type": "execute_result"
    }
   ],
   "source": [
    "# calculate the critical value\n",
    "significance = 0.05\n",
    "tcrit = t.ppf(1.0 - significance, degrees_of_freedom)\n",
    "tcrit"
   ]
  },
  {
   "cell_type": "code",
   "execution_count": 36,
   "id": "6a046c54",
   "metadata": {},
   "outputs": [
    {
     "data": {
      "text/plain": [
       "(0.03696205878476111, 0.03696205878476109)"
      ]
     },
     "execution_count": 36,
     "metadata": {},
     "output_type": "execute_result"
    }
   ],
   "source": [
    "pvalue,pvalue2"
   ]
  },
  {
   "cell_type": "code",
   "execution_count": 37,
   "id": "53891bfc",
   "metadata": {},
   "outputs": [
    {
     "data": {
      "text/plain": [
       "[<matplotlib.lines.Line2D at 0x24a629f2820>]"
      ]
     },
     "execution_count": 37,
     "metadata": {},
     "output_type": "execute_result"
    },
    {
     "data": {
      "image/png": "[encoded data removed]",
      "text/plain": [
       "<Figure size 432x288 with 1 Axes>"
      ]
     },
     "metadata": {
      "needs_background": "light"
     },
     "output_type": "display_data"
    }
   ],
   "source": [
    "#visulaizing our results in the form of a t distribution\n",
    "xs = np.linspace(-4,4,100)\n",
    "plt.vlines([-tcrit, tcrit], 0.0, t.pdf(tcrit,20),colors='r')\n",
    "plt.vlines([-t_score,t_score],0.0,t.pdf(t_score,20),colors=\"b\")\n",
    "plt.plot(xs, t.pdf(xs,20))"
   ]
  },
  {
   "cell_type": "markdown",
   "id": "65f742a5",
   "metadata": {},
   "source": [
    "This is visual representation for understanding and is not generated from the actual data. While we are performing one-tailed test I have marked critical values and t-scores on both sides of the distribution for understanding purpose. \n",
    "\n",
    "Here our critical value is marked in red and the t-score is marked in bue. The region of the plot lying beyond the red line i.e the critical value is the region where we can reject the null hypothesis. The pvalue is basically the area of the region of the tails (beyond the red line). The red lines (critical values) are decided by the significance level (alpha) that we choose and hence we compare the pvalue to 0.05\n",
    "\n",
    "Please note that the pvalue of 0.036 that we got is the area of the left tail. In a two tailed test (when we are just checking an eqaulity condition) the pvalue needs to be doubled to account for both the tails"
   ]
  },
  {
   "cell_type": "markdown",
   "id": "5770f552",
   "metadata": {},
   "source": [
    "Conclusion from T-test:\n",
    "\n",
    "We get a t-statistic of -1.78 which is less than the critical value (left-tailed test) and the pvalue we get is 0.036 which is less than 0.05 (95% confidence level)\n",
    "Therefore we can reject the null hypothesis and we come to the conclusion that shifting the gate to level 40 was not a great idea after all"
   ]
  },
  {
   "cell_type": "markdown",
   "id": "97f758f0",
   "metadata": {},
   "source": [
    "## Performing a T Test for 7 Day Retention\n",
    "\n",
    "The first step is to define the Null and Alternate Hypothesis represented by $ H_{0} $ and $ H_{1} $ respectively\n",
    "\n",
    "$ H_{0} $ : There is no difference in the proportion of users coming back to play the game after 7 day, when we change the gates\n",
    "\n",
    "$ H_{1} $ : The number of users coming back to play the game after 7 day is lesser when the gate is at level 40\n",
    "\n",
    "The formulas for Standard Error and the t-statistic remain the same as the previous example given that this too is an example of comparing proportions from 2 samples\n"
   ]
  },
  {
   "cell_type": "code",
   "execution_count": 38,
   "id": "02f933f5",
   "metadata": {},
   "outputs": [
    {
     "data": {
      "text/plain": [
       "version  retention_7\n",
       "gate_30  False          36198\n",
       "         True            8501\n",
       "gate_40  False          37210\n",
       "         True            8279\n",
       "Name: retention_7, dtype: int64"
      ]
     },
     "execution_count": 38,
     "metadata": {},
     "output_type": "execute_result"
    }
   ],
   "source": [
    "t3=df.groupby('version').retention_7.value_counts()\n",
    "t3"
   ]
  },
  {
   "cell_type": "code",
   "execution_count": 39,
   "id": "8db86c40",
   "metadata": {},
   "outputs": [],
   "source": [
    "#p1 and p2 are the proportions from our two samples\n",
    "p1=t3[1]/n1\n",
    "p2=t3[3]/n2"
   ]
  },
  {
   "cell_type": "code",
   "execution_count": 40,
   "id": "c16fd92c",
   "metadata": {},
   "outputs": [],
   "source": [
    "#computing the pooled variance of the two samples\n",
    "pcap=(t1[1]+t1[3])/(n1+n2)"
   ]
  },
  {
   "cell_type": "code",
   "execution_count": 41,
   "id": "470503d9",
   "metadata": {},
   "outputs": [
    {
     "data": {
      "text/plain": [
       "0.0033099350735518005"
      ]
     },
     "execution_count": 41,
     "metadata": {},
     "output_type": "execute_result"
    }
   ],
   "source": [
    "#getting the standard error from the pooled variance\n",
    "se=math.sqrt(pcap*(1-pcap)*((1/n1)+(1/n2)))\n",
    "se"
   ]
  },
  {
   "cell_type": "code",
   "execution_count": 42,
   "id": "ed46522e",
   "metadata": {},
   "outputs": [],
   "source": [
    "#finding the t score from the formula\n",
    "t_score=(p2-p1)/se"
   ]
  },
  {
   "cell_type": "code",
   "execution_count": 43,
   "id": "87bf7a64",
   "metadata": {},
   "outputs": [
    {
     "data": {
      "text/plain": [
       "-2.4723087997196913"
      ]
     },
     "execution_count": 43,
     "metadata": {},
     "output_type": "execute_result"
    }
   ],
   "source": [
    "t_score"
   ]
  },
  {
   "cell_type": "code",
   "execution_count": 44,
   "id": "fedee4b8",
   "metadata": {},
   "outputs": [],
   "source": [
    "degrees_of_freedom=n1+n2-2"
   ]
  },
  {
   "cell_type": "code",
   "execution_count": 45,
   "id": "490dcc89",
   "metadata": {},
   "outputs": [],
   "source": [
    "#computing pvalues using two different methods - using cdf and sf (survival function)\n",
    "pvalue=1-scipy.stats.t.cdf(abs(t_score), degrees_of_freedom)\n",
    "pvalue2=scipy.stats.t.sf(abs(t_score), degrees_of_freedom)"
   ]
  },
  {
   "cell_type": "code",
   "execution_count": 46,
   "id": "4bae1405",
   "metadata": {},
   "outputs": [
    {
     "data": {
      "text/plain": [
       "1.6448705229763008"
      ]
     },
     "execution_count": 46,
     "metadata": {},
     "output_type": "execute_result"
    }
   ],
   "source": [
    "# calculate the critical value\n",
    "significance = 0.05\n",
    "tcrit = t.ppf(1.0 - significance, degrees_of_freedom)\n",
    "tcrit"
   ]
  },
  {
   "cell_type": "code",
   "execution_count": 47,
   "id": "17c69e72",
   "metadata": {},
   "outputs": [
    {
     "data": {
      "text/plain": [
       "(0.006713090405126465, 0.006713090405126392)"
      ]
     },
     "execution_count": 47,
     "metadata": {},
     "output_type": "execute_result"
    }
   ],
   "source": [
    "pvalue,pvalue2"
   ]
  },
  {
   "cell_type": "code",
   "execution_count": 48,
   "id": "a22f7091",
   "metadata": {},
   "outputs": [
    {
     "data": {
      "text/plain": [
       "[<matplotlib.lines.Line2D at 0x24a62ada8e0>]"
      ]
     },
     "execution_count": 48,
     "metadata": {},
     "output_type": "execute_result"
    },
    {
     "data": {
      "image/png": "[encoded data removed]",
      "text/plain": [
       "<Figure size 432x288 with 1 Axes>"
      ]
     },
     "metadata": {
      "needs_background": "light"
     },
     "output_type": "display_data"
    }
   ],
   "source": [
    "#visulaizing our results in the form of a t distribution\n",
    "xs = np.linspace(-4,4,100)\n",
    "plt.vlines([-tcrit, tcrit], 0.0, t.pdf(tcrit,20),colors='r')\n",
    "plt.vlines([-t_score,t_score],0.0,t.pdf(t_score,20),colors=\"b\")\n",
    "plt.plot(xs, t.pdf(xs,20))"
   ]
  },
  {
   "cell_type": "markdown",
   "id": "c69403b9",
   "metadata": {},
   "source": [
    "In the above representation of the t-distribution we see that the t-score (shown by the blue line) lies way beyond the critical value (shown by the red line) in the significant region. This is also cemented by the pvalue of 0.0066 that we got\n",
    "Again this is a one-tailed test but the representation has both tails visualized for understanding purposes"
   ]
  },
  {
   "cell_type": "markdown",
   "id": "f88bf1c1",
   "metadata": {},
   "source": [
    "We get a t-statistic of -2.47 which is less than the critical value (left-tailed test) and the pvalue we get is 0.0066 which is less than 0.05 (95% confidence level)\n",
    "Therefore we can reject the null hypothesis and we come to the conclusion that shifting the gate to level 40 was not a great idea after all"
   ]
  },
  {
   "cell_type": "markdown",
   "id": "441510c9",
   "metadata": {},
   "source": [
    "## CHI SQUARE TEST\n",
    "\n",
    "In a Chi Square test we compare two distributions of categorical data are related to each other ; whether they are independent or dependent on each other. The Chi Square test starts with an assumption that the observed frequency of our control data matches the expected frequencies (from our experimental data). In the case of 1 day rentention we observed that there was a slight increase in percentage of users coming back after the gate was shifted to level 40. The t-test helped us reject the null hypothesis and we perform the Chi-square test to further solidify our analysis\n",
    "\n",
    "$ H_{0} $ : Observed and Expected frequencies are same i.e no diffference in user retention between gate 30 and gate 40\n",
    "\n",
    "$ H_{1} $ : Observed and Expected frequencies are different i.e there is difference in user retention between gate 30 and 40\n",
    "\n",
    "The Chi Square statistic is computed by the following equation\n",
    "\n",
    "${\\chi}^2=\\sum_{i,j}^{n} \\frac{(O_{ij} - E_{ij})^2}{E_{ij}}\\$\n",
    "\n",
    "We then compare the computed chi-sq statistic to the critical value (or we compare the pvalue with alpha) to decide whether to reject/fail to reject the null hypothesis"
   ]
  },
  {
   "cell_type": "code",
   "execution_count": 49,
   "id": "d1d8f249",
   "metadata": {},
   "outputs": [
    {
     "data": {
      "text/plain": [
       "[[20034, 24665], [20119, 25730]]"
      ]
     },
     "execution_count": 49,
     "metadata": {},
     "output_type": "execute_result"
    }
   ],
   "source": [
    "#using the numbers from the true-false distribution, ct represents contingency table\n",
    "ct=[[20034,24665],[20119,25730]]\n",
    "ct"
   ]
  },
  {
   "cell_type": "code",
   "execution_count": 50,
   "id": "4c324708",
   "metadata": {},
   "outputs": [
    {
     "data": {
      "text/plain": [
       "(8.0444307701523,\n",
       " 0.004564375882352519,\n",
       " 1,\n",
       " array([[19821.51949242, 24877.48050758],\n",
       "        [20331.48050758, 25517.51949242]]))"
      ]
     },
     "execution_count": 50,
     "metadata": {},
     "output_type": "execute_result"
    }
   ],
   "source": [
    "#using the chi2_contingency package from scipy\n",
    "chi_sq, pvalue, dof, expected = chi2_contingency(ct)\n",
    "chi_sq,pvalue,dof,expected"
   ]
  },
  {
   "cell_type": "code",
   "execution_count": 51,
   "id": "f0825991",
   "metadata": {},
   "outputs": [],
   "source": [
    "#manually computing the chi-squared statistic to understand better\n",
    "a=ct[0][0]\n",
    "b=ct[0][1]\n",
    "c=ct[1][0]\n",
    "d=ct[1][1]\n",
    "sum=ct[0][0]+ct[0][1]+ct[1][0]+ct[1][1]\n",
    "E1=((a+b)*(a+c))/sum\n",
    "E2=((b+a)*(b+d))/sum\n",
    "E3=((c+a)*(c+d))/sum\n",
    "E4=((d+c)*(d+b))/sum\n",
    "Act=np.array([a,b,c,d])\n",
    "Exp=np.array([E1,E2,E3,E4])\n",
    "chi_sq1=np.sum(np.square(Act-Exp)/Exp)"
   ]
  },
  {
   "cell_type": "code",
   "execution_count": 52,
   "id": "a84be6b5",
   "metadata": {},
   "outputs": [
    {
     "data": {
      "text/plain": [
       "8.082424442738485"
      ]
     },
     "execution_count": 52,
     "metadata": {},
     "output_type": "execute_result"
    }
   ],
   "source": [
    "#we check the manually computed chi-sq statistic to see if it matches the one we got from scipy\n",
    "chi_sq1"
   ]
  },
  {
   "cell_type": "code",
   "execution_count": 53,
   "id": "f5f7b511",
   "metadata": {},
   "outputs": [
    {
     "name": "stdout",
     "output_type": "stream",
     "text": [
      "chi_sq:8.0444307701523 critical value: 3.841458820694124\n"
     ]
    }
   ],
   "source": [
    "prob=0.95\n",
    "print(\"chi_sq:\"+str(chi_sq)+\" critical value: \"+str(chi2.ppf(prob, dof)))"
   ]
  },
  {
   "cell_type": "code",
   "execution_count": 54,
   "id": "128b70c8",
   "metadata": {},
   "outputs": [
    {
     "name": "stdout",
     "output_type": "stream",
     "text": [
      "pvalue: 0.004564375882352519 alpha: 0.050000000000000044\n"
     ]
    }
   ],
   "source": [
    "alpha = 1.0 - prob\n",
    "print(\"pvalue: \"+str(pvalue)+\" alpha: \"+str(alpha))"
   ]
  },
  {
   "cell_type": "markdown",
   "id": "4bf6a6af",
   "metadata": {},
   "source": [
    "We see that the chi sqaure statistic is greater than the critical value and the pvalue is below 0.05\n",
    "Therefore we can conclude that the observed and expected frequencies are dependent, hence rejecting the null hypothesis"
   ]
  },
  {
   "cell_type": "markdown",
   "id": "817590d6",
   "metadata": {},
   "source": [
    "### A small note on type 1 & 2 errors\n",
    "\n",
    "Statistical tests depend on the data/experiment and are vulnerable to errors. Many times the result we get in Hypothesis Tests maybe the exact opposite of what is happening and it is important to know about these errors while stepping into A/B Testing.\n",
    "There are 2 kinds of errors possible when carrying out a Hypothesis Test:\n",
    "\n",
    "1) Type 1 Error: \n",
    "\n",
    "Rejecting a true null. This means that the null hypothesis was actually true but we rejected it by mistake. In the cookie cats case it translates to \"Moving the gate to level 40 actually did not make a difference but we hypothesized that it reduced the retention rate\". The probability of making a type 1 error is $\\alpha$ (the significance level)\n",
    "\n",
    "2) Type 2 Error:\n",
    "\n",
    "Failing to reject a false null. This means that the null hypothesis was actually not true but we failed to reject it. In the cookie cats case it tranlsates to \"Moving the gate to level 40 actually did lead to a lessened retention rate but we failed to identify this and potentially lost users\". The probability of making a type 2 error is given by $\\beta$ and depends on how far the true mean is from the null mean\n",
    "\n",
    "Type 1 and 2 errors is a very interesting concept and can be read about more. I have included a link in the references for further readings on this topic"
   ]
  },
  {
   "cell_type": "markdown",
   "id": "cf09e339",
   "metadata": {},
   "source": [
    "## Summary and References\n",
    "\n",
    "This tutorial gave an introduction to evaluating results of an AB Test and covered performing of statistical tests from scratch in python. Of course there are many other techniques out there for AB Testing and this tutorial can serve as a starting point for the same. Here are some useful references for the content covered in the tutorial and starting points to dive deeper into the world of AB Testing:\n",
    "\n",
    "https://docs.scipy.org/doc/scipy/reference/generated/scipy.stats.t.html\n",
    "\n",
    "https://docs.scipy.org/doc/scipy/reference/generated/scipy.stats.chisquare.html\n",
    "\n",
    "https://www.kaggle.com/code/ekrembayar/a-b-testing-step-by-step-hypothesis-testing/data\n",
    "\n",
    "https://towardsdatascience.com/simple-and-complet-guide-to-a-b-testing-c34154d0ce5a\n",
    "\n",
    "https://towardsdatascience.com/type-i-and-type-ii-errors-of-hypothesis-tests-understand-with-graphs-43079fdd936a\n",
    "\n",
    "\n"
   ]
  },
  {
   "cell_type": "code",
   "execution_count": null,
   "id": "e87b27c3",
   "metadata": {},
   "outputs": [],
   "source": []
  }
 ],
 "metadata": {
  "kernelspec": {
   "display_name": "Python 3",
   "language": "python",
   "name": "python3"
  },
  "language_info": {
   "codemirror_mode": {
    "name": "ipython",
    "version": 3
   },
   "file_extension": ".py",
   "mimetype": "text/x-python",
   "name": "python",
   "nbconvert_exporter": "python",
   "pygments_lexer": "ipython3",
   "version": "3.8.8"
  }
 },
 "nbformat": 4,
 "nbformat_minor": 5
}
